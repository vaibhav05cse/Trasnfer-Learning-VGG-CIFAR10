{
  "nbformat": 4,
  "nbformat_minor": 0,
  "metadata": {
    "kernelspec": {
      "display_name": "Python 3",
      "language": "python",
      "name": "python3"
    },
    "language_info": {
      "codemirror_mode": {
        "name": "ipython",
        "version": 3
      },
      "file_extension": ".py",
      "mimetype": "text/x-python",
      "name": "python",
      "nbconvert_exporter": "python",
      "pygments_lexer": "ipython3",
      "version": "3.7.7"
    },
    "colab": {
      "name": "CIFAR_10_Final.ipynb",
      "provenance": [],
      "collapsed_sections": []
    },
    "accelerator": "GPU"
  },
  "cells": [
    {
      "cell_type": "code",
      "metadata": {
        "id": "qldVAjhpvfbE",
        "colab_type": "code",
        "colab": {}
      },
      "source": [
        "#Keras library for CIFAR dataset\n",
        "from keras.datasets import cifar10"
      ],
      "execution_count": 0,
      "outputs": []
    },
    {
      "cell_type": "code",
      "metadata": {
        "id": "Tx1RxCMtvfbQ",
        "colab_type": "code",
        "colab": {}
      },
      "source": [
        "#Downloading the CIFAR dataset\n",
        "(x_train,y_train),(x_test,y_test)=cifar10.load_data()"
      ],
      "execution_count": 0,
      "outputs": []
    },
    {
      "cell_type": "code",
      "metadata": {
        "id": "A8vlvjnYvfbW",
        "colab_type": "code",
        "colab": {}
      },
      "source": [
        "#importing other required libraries\n",
        "import numpy as np\n",
        "import pandas as pd\n",
        "from sklearn.utils.multiclass import unique_labels\n",
        "import os\n",
        "import matplotlib.pyplot as plt\n",
        "import matplotlib.image as mpimg\n",
        "import seaborn as sns\n",
        "import itertools\n",
        "from sklearn.model_selection import train_test_split\n",
        "from sklearn.metrics import confusion_matrix\n",
        "from keras import Sequential\n",
        "from keras.applications import VGG19,ResNet50 ##VGG19 and RsNet50 for Transfer Learning\n",
        "from keras.preprocessing.image import ImageDataGenerator\n",
        "from keras.optimizers import SGD,Adam\n",
        "from keras.callbacks import ReduceLROnPlateau\n",
        "from keras.layers import Flatten,Dense,BatchNormalization,Activation,Dropout\n",
        "from keras.utils import to_categorical"
      ],
      "execution_count": 0,
      "outputs": []
    },
    {
      "cell_type": "code",
      "metadata": {
        "id": "qpBblXGHvfbZ",
        "colab_type": "code",
        "colab": {}
      },
      "source": [
        "#defining training and test sets\n",
        "x_train,x_val,y_train,y_val=train_test_split(x_train,y_train,test_size=.3)"
      ],
      "execution_count": 0,
      "outputs": []
    },
    {
      "cell_type": "code",
      "metadata": {
        "id": "4iaYD6VQvfbe",
        "colab_type": "code",
        "outputId": "98292e1a-5d91-4c08-d7bb-bea6f911d1ea",
        "colab": {
          "base_uri": "https://localhost:8080/",
          "height": 68
        }
      },
      "source": [
        "#Dimension of the dataset\n",
        "print((x_train.shape,y_train.shape))\n",
        "print((x_val.shape,y_val.shape))\n",
        "print((x_test.shape,y_test.shape))"
      ],
      "execution_count": 26,
      "outputs": [
        {
          "output_type": "stream",
          "text": [
            "((35000, 32, 32, 3), (35000, 1))\n",
            "((15000, 32, 32, 3), (15000, 1))\n",
            "((10000, 32, 32, 3), (10000, 1))\n"
          ],
          "name": "stdout"
        }
      ]
    },
    {
      "cell_type": "code",
      "metadata": {
        "id": "viG9Qb8fvfbh",
        "colab_type": "code",
        "colab": {}
      },
      "source": [
        "#Onehot Encoding the labels.\n",
        "#Since we have 10 classes we should expect the shape[1] of y_train,y_val and y_test to change from 1 to 10\n",
        "y_train=to_categorical(y_train)\n",
        "y_val=to_categorical(y_val)\n",
        "y_test=to_categorical(y_test)"
      ],
      "execution_count": 0,
      "outputs": []
    },
    {
      "cell_type": "code",
      "metadata": {
        "id": "ygoFHVB2vfbm",
        "colab_type": "code",
        "outputId": "d1efaa66-ec96-4c69-b3c4-b144c6d5b6af",
        "colab": {
          "base_uri": "https://localhost:8080/",
          "height": 68
        }
      },
      "source": [
        "#Verifying the dimension after onehot encoding\n",
        "print((x_train.shape,y_train.shape))\n",
        "print((x_val.shape,y_val.shape))\n",
        "print((x_test.shape,y_test.shape))"
      ],
      "execution_count": 28,
      "outputs": [
        {
          "output_type": "stream",
          "text": [
            "((35000, 32, 32, 3), (35000, 10))\n",
            "((15000, 32, 32, 3), (15000, 10))\n",
            "((10000, 32, 32, 3), (10000, 10))\n"
          ],
          "name": "stdout"
        }
      ]
    },
    {
      "cell_type": "code",
      "metadata": {
        "id": "ylG3M4obvfbq",
        "colab_type": "code",
        "colab": {}
      },
      "source": [
        "#Image Data Augmentation\n",
        "train_generator = ImageDataGenerator(\n",
        "                                    rotation_range=2, \n",
        "                                    horizontal_flip=True,\n",
        "                                    zoom_range=.1 )\n",
        "\n",
        "val_generator = ImageDataGenerator(\n",
        "                                    rotation_range=2, \n",
        "                                    horizontal_flip=True,\n",
        "                                    zoom_range=.1)\n",
        "\n",
        "test_generator = ImageDataGenerator(\n",
        "                                    rotation_range=2, \n",
        "                                    horizontal_flip= True,\n",
        "                                    zoom_range=.1) "
      ],
      "execution_count": 0,
      "outputs": []
    },
    {
      "cell_type": "code",
      "metadata": {
        "id": "hgCgtOxAvfbu",
        "colab_type": "code",
        "colab": {}
      },
      "source": [
        "#Fitting the augmentation defined above to the data\n",
        "train_generator.fit(x_train)\n",
        "val_generator.fit(x_val)\n",
        "test_generator.fit(x_test)"
      ],
      "execution_count": 0,
      "outputs": []
    },
    {
      "cell_type": "code",
      "metadata": {
        "id": "y22qmNScvfbx",
        "colab_type": "code",
        "colab": {}
      },
      "source": [
        "#Learning Rate Annealer\n",
        "lrr= ReduceLROnPlateau(\n",
        "                       monitor='val_acc', #Metric to be measured\n",
        "                       factor=.01, #Factor by which learning rate will be reduced\n",
        "                       patience=3,  #No. of epochs after which if there is no improvement in the val_acc, the learning rate is reduced\n",
        "                       min_lr=1e-5) #The minimum learning rate "
      ],
      "execution_count": 0,
      "outputs": []
    },
    {
      "cell_type": "code",
      "metadata": {
        "id": "FspHHJ0fvfb0",
        "colab_type": "code",
        "colab": {}
      },
      "source": [
        "#Defining the VGG Convolutional Neural Net\n",
        "base_model = VGG19(include_top=False,weights='imagenet',input_shape=(32,32,3),classes=y_train.shape[1])"
      ],
      "execution_count": 0,
      "outputs": []
    },
    {
      "cell_type": "code",
      "metadata": {
        "id": "z1tQ--98vfb9",
        "colab_type": "code",
        "colab": {}
      },
      "source": [
        "#Adding the final layers to the above base models where the actual classification is done in the dense layers\n",
        "\n",
        "model= Sequential()\n",
        "model.add(base_model) #Adds the base model (in this case vgg19 to model)\n",
        "model.add(Flatten()) #Since the output before the flatten layer is a matrix we have to use this function to get a vector of the form nX1 to feed it into the fully connected layers"
      ],
      "execution_count": 0,
      "outputs": []
    },
    {
      "cell_type": "code",
      "metadata": {
        "id": "3FJgz0envfcB",
        "colab_type": "code",
        "outputId": "da2105d1-bda5-4b1c-9f23-368b429834e7",
        "colab": {
          "base_uri": "https://localhost:8080/",
          "height": 221
        }
      },
      "source": [
        "#Model summary\n",
        "model.summary()"
      ],
      "execution_count": 34,
      "outputs": [
        {
          "output_type": "stream",
          "text": [
            "Model: \"sequential_2\"\n",
            "_________________________________________________________________\n",
            "Layer (type)                 Output Shape              Param #   \n",
            "=================================================================\n",
            "vgg19 (Model)                (None, 1, 1, 512)         20024384  \n",
            "_________________________________________________________________\n",
            "flatten_2 (Flatten)          (None, 512)               0         \n",
            "=================================================================\n",
            "Total params: 20,024,384\n",
            "Trainable params: 20,024,384\n",
            "Non-trainable params: 0\n",
            "_________________________________________________________________\n"
          ],
          "name": "stdout"
        }
      ]
    },
    {
      "cell_type": "code",
      "metadata": {
        "id": "oJTzmAaLvfcH",
        "colab_type": "code",
        "colab": {}
      },
      "source": [
        "#Adding the Dense layers along with activation and batch normalization\n",
        "model.add(Dense(1024,activation=('relu'),input_dim=512))\n",
        "model.add(Dense(512,activation=('relu'))) \n",
        "model.add(Dense(256,activation=('relu'))) \n",
        "#model.add(Dropout(.3))#Adding a dropout layer that will randomly drop 30% of the weights\n",
        "model.add(Dense(128,activation=('relu')))\n",
        "#model.add(Dropout(.2))\n",
        "model.add(Dense(10,activation=('softmax'))) #This is the classification layer"
      ],
      "execution_count": 0,
      "outputs": []
    },
    {
      "cell_type": "code",
      "metadata": {
        "id": "6oIraZTNvfcL",
        "colab_type": "code",
        "outputId": "d04d41f3-62ac-4c72-b8c1-66a70a69ee9f",
        "colab": {
          "base_uri": "https://localhost:8080/",
          "height": 391
        }
      },
      "source": [
        "#Checking the final model summary\n",
        "model.summary()"
      ],
      "execution_count": 36,
      "outputs": [
        {
          "output_type": "stream",
          "text": [
            "Model: \"sequential_2\"\n",
            "_________________________________________________________________\n",
            "Layer (type)                 Output Shape              Param #   \n",
            "=================================================================\n",
            "vgg19 (Model)                (None, 1, 1, 512)         20024384  \n",
            "_________________________________________________________________\n",
            "flatten_2 (Flatten)          (None, 512)               0         \n",
            "_________________________________________________________________\n",
            "dense_6 (Dense)              (None, 1024)              525312    \n",
            "_________________________________________________________________\n",
            "dense_7 (Dense)              (None, 512)               524800    \n",
            "_________________________________________________________________\n",
            "dense_8 (Dense)              (None, 256)               131328    \n",
            "_________________________________________________________________\n",
            "dense_9 (Dense)              (None, 128)               32896     \n",
            "_________________________________________________________________\n",
            "dense_10 (Dense)             (None, 10)                1290      \n",
            "=================================================================\n",
            "Total params: 21,240,010\n",
            "Trainable params: 21,240,010\n",
            "Non-trainable params: 0\n",
            "_________________________________________________________________\n"
          ],
          "name": "stdout"
        }
      ]
    },
    {
      "cell_type": "code",
      "metadata": {
        "id": "bY_XnKPZvfcP",
        "colab_type": "code",
        "colab": {}
      },
      "source": [
        "#Defining the parameters\n",
        "batch_size= 100\n",
        "epochs=50\n",
        "learn_rate=.001\n",
        "\n",
        "sgd=SGD(lr=learn_rate,momentum=.9,nesterov=False)\n",
        "adam=Adam(lr=learn_rate, beta_1=0.9, beta_2=0.999, epsilon=None, decay=0.0, amsgrad=False)"
      ],
      "execution_count": 0,
      "outputs": []
    },
    {
      "cell_type": "code",
      "metadata": {
        "id": "nTe7OSzLvfcT",
        "colab_type": "code",
        "colab": {}
      },
      "source": [
        "#Compiling the model\n",
        "#During model compiling the 3 main things we specify are loss function,optimizer and the metrics that need to be evaluated during the test and train processes.\n",
        "#Lets start by using the SGD optimizer\n",
        "#We will specify the loss as categoricl crossentropy since the labels are 1 hot encoded. IF we had integer labels,we'd have to use sparse categorical crossentropy as loss function.\n",
        "model.compile(optimizer=sgd,loss='categorical_crossentropy',metrics=['accuracy'])"
      ],
      "execution_count": 0,
      "outputs": []
    },
    {
      "cell_type": "code",
      "metadata": {
        "id": "UnUdOMOnvfcY",
        "colab_type": "code",
        "outputId": "07ce8faa-d9f2-4178-b277-8b5855f3927b",
        "colab": {
          "base_uri": "https://localhost:8080/",
          "height": 1000
        }
      },
      "source": [
        "#Training the model\n",
        "model.fit_generator(train_generator.flow(x_train,y_train,batch_size=batch_size),\n",
        "                      epochs=epochs,\n",
        "                      steps_per_epoch=x_train.shape[0]//batch_size,\n",
        "                      validation_data=val_generator.flow(x_val,y_val,batch_size=batch_size),validation_steps=250,\n",
        "                      callbacks=[lrr],verbose=1)"
      ],
      "execution_count": 39,
      "outputs": [
        {
          "output_type": "stream",
          "text": [
            "Epoch 1/50\n",
            "350/350 [==============================] - 62s 177ms/step - loss: 2.0878 - accuracy: 0.2019 - val_loss: 1.8054 - val_accuracy: 0.3510\n",
            "Epoch 2/50\n",
            "  1/350 [..............................] - ETA: 45s - loss: 1.7636 - accuracy: 0.3400"
          ],
          "name": "stdout"
        },
        {
          "output_type": "stream",
          "text": [
            "/usr/local/lib/python3.6/dist-packages/keras/callbacks/callbacks.py:1042: RuntimeWarning: Reduce LR on plateau conditioned on metric `val_acc` which is not available. Available metrics are: val_loss,val_accuracy,loss,accuracy,lr\n",
            "  (self.monitor, ','.join(list(logs.keys()))), RuntimeWarning\n"
          ],
          "name": "stderr"
        },
        {
          "output_type": "stream",
          "text": [
            "350/350 [==============================] - 61s 175ms/step - loss: 1.3632 - accuracy: 0.4972 - val_loss: 1.0819 - val_accuracy: 0.6115\n",
            "Epoch 3/50\n",
            "350/350 [==============================] - 61s 175ms/step - loss: 0.9861 - accuracy: 0.6525 - val_loss: 1.0423 - val_accuracy: 0.7058\n",
            "Epoch 4/50\n",
            "350/350 [==============================] - 61s 174ms/step - loss: 0.7858 - accuracy: 0.7273 - val_loss: 0.6539 - val_accuracy: 0.7510\n",
            "Epoch 5/50\n",
            "350/350 [==============================] - 61s 175ms/step - loss: 0.6853 - accuracy: 0.7663 - val_loss: 0.7074 - val_accuracy: 0.7745\n",
            "Epoch 6/50\n",
            "350/350 [==============================] - 61s 176ms/step - loss: 0.5988 - accuracy: 0.7957 - val_loss: 0.6143 - val_accuracy: 0.7777\n",
            "Epoch 7/50\n",
            "350/350 [==============================] - 61s 175ms/step - loss: 0.5359 - accuracy: 0.8165 - val_loss: 0.4791 - val_accuracy: 0.7968\n",
            "Epoch 8/50\n",
            "350/350 [==============================] - 61s 175ms/step - loss: 0.4861 - accuracy: 0.8321 - val_loss: 0.5940 - val_accuracy: 0.8146\n",
            "Epoch 9/50\n",
            "350/350 [==============================] - 61s 175ms/step - loss: 0.4399 - accuracy: 0.8467 - val_loss: 0.4860 - val_accuracy: 0.8228\n",
            "Epoch 10/50\n",
            "350/350 [==============================] - 61s 176ms/step - loss: 0.3951 - accuracy: 0.8629 - val_loss: 0.6072 - val_accuracy: 0.8255\n",
            "Epoch 11/50\n",
            "350/350 [==============================] - 61s 176ms/step - loss: 0.3613 - accuracy: 0.8743 - val_loss: 0.4887 - val_accuracy: 0.7958\n",
            "Epoch 12/50\n",
            "350/350 [==============================] - 61s 176ms/step - loss: 0.3307 - accuracy: 0.8856 - val_loss: 0.5411 - val_accuracy: 0.8321\n",
            "Epoch 13/50\n",
            "350/350 [==============================] - 61s 175ms/step - loss: 0.2995 - accuracy: 0.8954 - val_loss: 0.5667 - val_accuracy: 0.8172\n",
            "Epoch 14/50\n",
            "350/350 [==============================] - 61s 175ms/step - loss: 0.2738 - accuracy: 0.9042 - val_loss: 0.7037 - val_accuracy: 0.8374\n",
            "Epoch 15/50\n",
            "350/350 [==============================] - 61s 175ms/step - loss: 0.2499 - accuracy: 0.9149 - val_loss: 0.5963 - val_accuracy: 0.8347\n",
            "Epoch 16/50\n",
            "350/350 [==============================] - 61s 175ms/step - loss: 0.2214 - accuracy: 0.9238 - val_loss: 0.5485 - val_accuracy: 0.8318\n",
            "Epoch 17/50\n",
            "350/350 [==============================] - 61s 175ms/step - loss: 0.2044 - accuracy: 0.9304 - val_loss: 0.5008 - val_accuracy: 0.8349\n",
            "Epoch 18/50\n",
            "350/350 [==============================] - 61s 176ms/step - loss: 0.1801 - accuracy: 0.9382 - val_loss: 0.3767 - val_accuracy: 0.8433\n",
            "Epoch 19/50\n",
            "350/350 [==============================] - 61s 175ms/step - loss: 0.1729 - accuracy: 0.9412 - val_loss: 0.5845 - val_accuracy: 0.8348\n",
            "Epoch 20/50\n",
            "350/350 [==============================] - 61s 175ms/step - loss: 0.1586 - accuracy: 0.9449 - val_loss: 0.5080 - val_accuracy: 0.8436\n",
            "Epoch 21/50\n",
            "350/350 [==============================] - 61s 175ms/step - loss: 0.1382 - accuracy: 0.9530 - val_loss: 0.3620 - val_accuracy: 0.8240\n",
            "Epoch 22/50\n",
            "350/350 [==============================] - 61s 176ms/step - loss: 0.1319 - accuracy: 0.9561 - val_loss: 0.3422 - val_accuracy: 0.8415\n",
            "Epoch 23/50\n",
            "350/350 [==============================] - 61s 175ms/step - loss: 0.1196 - accuracy: 0.9593 - val_loss: 0.6289 - val_accuracy: 0.8283\n",
            "Epoch 24/50\n",
            "350/350 [==============================] - 61s 175ms/step - loss: 0.1077 - accuracy: 0.9635 - val_loss: 0.4515 - val_accuracy: 0.8450\n",
            "Epoch 25/50\n",
            "350/350 [==============================] - 61s 175ms/step - loss: 0.1074 - accuracy: 0.9634 - val_loss: 0.5046 - val_accuracy: 0.8423\n",
            "Epoch 26/50\n",
            "350/350 [==============================] - 61s 175ms/step - loss: 0.0888 - accuracy: 0.9696 - val_loss: 0.4996 - val_accuracy: 0.8410\n",
            "Epoch 27/50\n",
            "350/350 [==============================] - 61s 175ms/step - loss: 0.0874 - accuracy: 0.9704 - val_loss: 0.3909 - val_accuracy: 0.8438\n",
            "Epoch 28/50\n",
            "350/350 [==============================] - 61s 175ms/step - loss: 0.0856 - accuracy: 0.9709 - val_loss: 0.6745 - val_accuracy: 0.8454\n",
            "Epoch 29/50\n",
            "350/350 [==============================] - 61s 175ms/step - loss: 0.0758 - accuracy: 0.9743 - val_loss: 0.4823 - val_accuracy: 0.8503\n",
            "Epoch 30/50\n",
            "350/350 [==============================] - 61s 175ms/step - loss: 0.0622 - accuracy: 0.9787 - val_loss: 0.6142 - val_accuracy: 0.8462\n",
            "Epoch 31/50\n",
            "350/350 [==============================] - 61s 176ms/step - loss: 0.0630 - accuracy: 0.9789 - val_loss: 0.9655 - val_accuracy: 0.8241\n",
            "Epoch 32/50\n",
            "350/350 [==============================] - 61s 175ms/step - loss: 0.0681 - accuracy: 0.9766 - val_loss: 0.9620 - val_accuracy: 0.8260\n",
            "Epoch 33/50\n",
            "350/350 [==============================] - 61s 175ms/step - loss: 0.0545 - accuracy: 0.9809 - val_loss: 0.6508 - val_accuracy: 0.8458\n",
            "Epoch 34/50\n",
            "350/350 [==============================] - 61s 175ms/step - loss: 0.0516 - accuracy: 0.9830 - val_loss: 0.3852 - val_accuracy: 0.8218\n",
            "Epoch 35/50\n",
            "350/350 [==============================] - 61s 175ms/step - loss: 0.0535 - accuracy: 0.9821 - val_loss: 0.6949 - val_accuracy: 0.8440\n",
            "Epoch 36/50\n",
            "350/350 [==============================] - 61s 175ms/step - loss: 0.0412 - accuracy: 0.9865 - val_loss: 0.8351 - val_accuracy: 0.8439\n",
            "Epoch 37/50\n",
            "350/350 [==============================] - 61s 175ms/step - loss: 0.0469 - accuracy: 0.9841 - val_loss: 0.7358 - val_accuracy: 0.8486\n",
            "Epoch 38/50\n",
            "350/350 [==============================] - 61s 175ms/step - loss: 0.0443 - accuracy: 0.9849 - val_loss: 0.7390 - val_accuracy: 0.8390\n",
            "Epoch 39/50\n",
            "350/350 [==============================] - 61s 175ms/step - loss: 0.0391 - accuracy: 0.9876 - val_loss: 1.1131 - val_accuracy: 0.8435\n",
            "Epoch 40/50\n",
            "350/350 [==============================] - 61s 175ms/step - loss: 0.0356 - accuracy: 0.9885 - val_loss: 0.7561 - val_accuracy: 0.8437\n",
            "Epoch 41/50\n",
            "350/350 [==============================] - 61s 175ms/step - loss: 0.0397 - accuracy: 0.9863 - val_loss: 1.0911 - val_accuracy: 0.8500\n",
            "Epoch 42/50\n",
            "350/350 [==============================] - 61s 176ms/step - loss: 0.0330 - accuracy: 0.9891 - val_loss: 0.8465 - val_accuracy: 0.8418\n",
            "Epoch 43/50\n",
            "350/350 [==============================] - 61s 175ms/step - loss: 0.0299 - accuracy: 0.9899 - val_loss: 0.7543 - val_accuracy: 0.8444\n",
            "Epoch 44/50\n",
            "350/350 [==============================] - 61s 175ms/step - loss: 0.0390 - accuracy: 0.9863 - val_loss: 0.7306 - val_accuracy: 0.8508\n",
            "Epoch 45/50\n",
            "350/350 [==============================] - 61s 175ms/step - loss: 0.0327 - accuracy: 0.9887 - val_loss: 0.8518 - val_accuracy: 0.8526\n",
            "Epoch 46/50\n",
            "350/350 [==============================] - 61s 175ms/step - loss: 0.0296 - accuracy: 0.9900 - val_loss: 0.6026 - val_accuracy: 0.8436\n",
            "Epoch 47/50\n",
            "350/350 [==============================] - 62s 176ms/step - loss: 0.0335 - accuracy: 0.9890 - val_loss: 0.7584 - val_accuracy: 0.8496\n",
            "Epoch 48/50\n",
            "350/350 [==============================] - 62s 176ms/step - loss: 0.0207 - accuracy: 0.9931 - val_loss: 0.5048 - val_accuracy: 0.8379\n",
            "Epoch 49/50\n",
            "350/350 [==============================] - 62s 177ms/step - loss: 0.0246 - accuracy: 0.9917 - val_loss: 1.0917 - val_accuracy: 0.8566\n",
            "Epoch 50/50\n",
            "350/350 [==============================] - 62s 176ms/step - loss: 0.0237 - accuracy: 0.9922 - val_loss: 0.6777 - val_accuracy: 0.8541\n"
          ],
          "name": "stdout"
        },
        {
          "output_type": "execute_result",
          "data": {
            "text/plain": [
              "<keras.callbacks.callbacks.History at 0x7f03140e3fd0>"
            ]
          },
          "metadata": {
            "tags": []
          },
          "execution_count": 39
        }
      ]
    },
    {
      "cell_type": "code",
      "metadata": {
        "id": "3Vma92-evfcb",
        "colab_type": "code",
        "colab": {
          "base_uri": "https://localhost:8080/",
          "height": 282
        },
        "outputId": "90803dcc-afef-4d45-ab5e-f8b047542620"
      },
      "source": [
        "#Plotting the training and valiation loss\n",
        "\n",
        "f,ax=plt.subplots(2,1) #Creates 2 subplots under 1 column\n",
        "\n",
        "#Assigning the first subplot to graph training loss and validation loss\n",
        "ax[0].plot(model.history.history['loss'],color='b',label='Training Loss')\n",
        "ax[0].plot(model.history.history['val_loss'],color='r',label='Validation Loss')\n",
        "\n",
        "#Plotting the training accuracy and validation accuracy\n",
        "ax[1].plot(model.history.history['accuracy'],color='b',label='Training  Accuracy')\n",
        "ax[1].plot(model.history.history['val_accuracy'],color='r',label='Validation Accuracy')"
      ],
      "execution_count": 40,
      "outputs": [
        {
          "output_type": "execute_result",
          "data": {
            "text/plain": [
              "[<matplotlib.lines.Line2D at 0x7f031408f080>]"
            ]
          },
          "metadata": {
            "tags": []
          },
          "execution_count": 40
        },
        {
          "output_type": "display_data",
          "data": {
            "image/png": "[encoded data removed]",
            "text/plain": [
              "<Figure size 432x288 with 2 Axes>"
            ]
          },
          "metadata": {
            "tags": [],
            "needs_background": "light"
          }
        }
      ]
    },
    {
      "cell_type": "code",
      "metadata": {
        "id": "MKDiRQZFvfce",
        "colab_type": "code",
        "colab": {}
      },
      "source": [
        "#Defining function for confusion matrix plot\n",
        "def plot_confusion_matrix(y_true, y_pred, classes,\n",
        "                          normalize=False,\n",
        "                          title=None,\n",
        "                          cmap=plt.cm.Blues):\n",
        "    \"\"\"\n",
        "    This function prints and plots the confusion matrix.\n",
        "    Normalization can be applied by setting `normalize=True`.\n",
        "    \"\"\"\n",
        "    if not title:\n",
        "        if normalize:\n",
        "            title = 'Normalized confusion matrix'\n",
        "        else:\n",
        "            title = 'Confusion matrix, without normalization'\n",
        "\n",
        "    # Compute confusion matrix\n",
        "    cm = confusion_matrix(y_true, y_pred)\n",
        "    if normalize:\n",
        "        cm = cm.astype('float') / cm.sum(axis=1)[:, np.newaxis]\n",
        "        print(\"Normalized confusion matrix\")\n",
        "    else:\n",
        "        print('Confusion matrix, without normalization')\n",
        "\n",
        "#     print(cm)\n",
        "\n",
        "    fig, ax = plt.subplots(figsize=(7,7))\n",
        "    im = ax.imshow(cm, interpolation='nearest', cmap=cmap)\n",
        "    ax.figure.colorbar(im, ax=ax)\n",
        "    # We want to show all ticks...\n",
        "    ax.set(xticks=np.arange(cm.shape[1]),\n",
        "           yticks=np.arange(cm.shape[0]),\n",
        "           # ... and label them with the respective list entries\n",
        "           xticklabels=classes, yticklabels=classes,\n",
        "           title=title,\n",
        "           ylabel='True label',\n",
        "           xlabel='Predicted label')\n",
        "\n",
        "    # Rotate the tick labels and set their alignment.\n",
        "    plt.setp(ax.get_xticklabels(), rotation=45, ha=\"right\",\n",
        "             rotation_mode=\"anchor\")\n",
        "    # Loop over data dimensions and create text annotations.\n",
        "    fmt = '.2f' if normalize else 'd'\n",
        "    thresh = cm.max() / 2.\n",
        "    for i in range(cm.shape[0]):\n",
        "        for j in range(cm.shape[1]):\n",
        "            ax.text(j, i, format(cm[i, j], fmt),\n",
        "                    ha=\"center\", va=\"center\",\n",
        "                    color=\"white\" if cm[i, j] > thresh else \"black\")\n",
        "    fig.tight_layout()\n",
        "    return ax\n",
        "\n",
        "\n",
        "np.set_printoptions(precision=2)"
      ],
      "execution_count": 0,
      "outputs": []
    },
    {
      "cell_type": "code",
      "metadata": {
        "id": "pvBwAcLBvfch",
        "colab_type": "code",
        "colab": {}
      },
      "source": [
        "#Making prediction\n",
        "y_pred=model.predict_classes(x_test)\n",
        "y_true=np.argmax(y_test,axis=1)"
      ],
      "execution_count": 0,
      "outputs": []
    },
    {
      "cell_type": "code",
      "metadata": {
        "id": "IKyGc4SJvfck",
        "colab_type": "code",
        "colab": {}
      },
      "source": [
        "#Plotting the confusion matrix\n",
        "confusion_mtx=confusion_matrix(y_true,y_pred)"
      ],
      "execution_count": 0,
      "outputs": []
    },
    {
      "cell_type": "code",
      "metadata": {
        "id": "-kPN7UhDvfcn",
        "colab_type": "code",
        "colab": {}
      },
      "source": [
        "class_names=['airplane', 'automobile', 'bird', 'cat', 'deer', 'dog', 'frog', 'horse', 'ship', 'truck']"
      ],
      "execution_count": 0,
      "outputs": []
    },
    {
      "cell_type": "code",
      "metadata": {
        "id": "8YJDNRRMvfcq",
        "colab_type": "code",
        "colab": {
          "base_uri": "https://localhost:8080/",
          "height": 520
        },
        "outputId": "9125af85-455d-44b7-88e4-008d1794558a"
      },
      "source": [
        "# Plotting non-normalized confusion matrix\n",
        "plot_confusion_matrix(y_true, y_pred, classes=class_names,\n",
        "                      title='Confusion matrix, without normalization')"
      ],
      "execution_count": 45,
      "outputs": [
        {
          "output_type": "stream",
          "text": [
            "Confusion matrix, without normalization\n"
          ],
          "name": "stdout"
        },
        {
          "output_type": "execute_result",
          "data": {
            "text/plain": [
              "<matplotlib.axes._subplots.AxesSubplot at 0x7f0313b15dd8>"
            ]
          },
          "metadata": {
            "tags": []
          },
          "execution_count": 45
        },
        {
          "output_type": "display_data",
          "data": {
            "image/png": "[encoded data removed]",
            "text/plain": [
              "<Figure size 504x504 with 2 Axes>"
            ]
          },
          "metadata": {
            "tags": [],
            "needs_background": "light"
          }
        }
      ]
    },
    {
      "cell_type": "code",
      "metadata": {
        "id": "P8aFJ4xWvfcu",
        "colab_type": "code",
        "colab": {
          "base_uri": "https://localhost:8080/",
          "height": 520
        },
        "outputId": "199eeca4-6613-4765-b78d-c2b7c3743eac"
      },
      "source": [
        "# Plotting normalized confusion matrix\n",
        "plot_confusion_matrix(y_true, y_pred, classes=class_names, normalize=True,\n",
        "                      title='Normalized confusion matrix')"
      ],
      "execution_count": 46,
      "outputs": [
        {
          "output_type": "stream",
          "text": [
            "Normalized confusion matrix\n"
          ],
          "name": "stdout"
        },
        {
          "output_type": "execute_result",
          "data": {
            "text/plain": [
              "<matplotlib.axes._subplots.AxesSubplot at 0x7f03139de160>"
            ]
          },
          "metadata": {
            "tags": []
          },
          "execution_count": 46
        },
        {
          "output_type": "display_data",
          "data": {
            "image/png": "[encoded data removed]",
            "text/plain": [
              "<Figure size 504x504 with 2 Axes>"
            ]
          },
          "metadata": {
            "tags": [],
            "needs_background": "light"
          }
        }
      ]
    }
  ]
}